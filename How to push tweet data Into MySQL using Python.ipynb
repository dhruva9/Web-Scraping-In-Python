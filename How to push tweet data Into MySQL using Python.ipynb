{
 "cells": [
  {
   "cell_type": "code",
   "execution_count": 1,
   "metadata": {},
   "outputs": [],
   "source": [
    "#Import all the required libarary\n",
    "import pandas as pd\n",
    "import csv\n",
    "import pymysql\n",
    "from sqlalchemy import create_engine, types\n",
    "import pyodbc \n",
    "import mysql.connector as msql\n",
    "from mysql.connector import Error\n",
    "from textblob import TextBlob"
   ]
  },
  {
   "cell_type": "code",
   "execution_count": 6,
   "metadata": {},
   "outputs": [
    {
     "data": {
      "text/html": [
       "<div>\n",
       "<style scoped>\n",
       "    .dataframe tbody tr th:only-of-type {\n",
       "        vertical-align: middle;\n",
       "    }\n",
       "\n",
       "    .dataframe tbody tr th {\n",
       "        vertical-align: top;\n",
       "    }\n",
       "\n",
       "    .dataframe thead th {\n",
       "        text-align: right;\n",
       "    }\n",
       "</style>\n",
       "<table border=\"1\" class=\"dataframe\">\n",
       "  <thead>\n",
       "    <tr style=\"text-align: right;\">\n",
       "      <th></th>\n",
       "      <th>date</th>\n",
       "      <th>tweet</th>\n",
       "    </tr>\n",
       "  </thead>\n",
       "  <tbody>\n",
       "    <tr>\n",
       "      <th>0</th>\n",
       "      <td>2021-05-30 23:54:18+00:00</td>\n",
       "      <td>Government of the lawyers, by the lawyers, and...</td>\n",
       "    </tr>\n",
       "    <tr>\n",
       "      <th>1</th>\n",
       "      <td>2021-05-30 23:42:07+00:00</td>\n",
       "      <td>ISIS CREATOR BARACK #OBAMA IN HEADLINE NEWS......</td>\n",
       "    </tr>\n",
       "    <tr>\n",
       "      <th>2</th>\n",
       "      <td>2021-05-30 23:38:29+00:00</td>\n",
       "      <td>Joe Biden in 2007 saying that voting machines ...</td>\n",
       "    </tr>\n",
       "    <tr>\n",
       "      <th>3</th>\n",
       "      <td>2021-05-30 23:34:40+00:00</td>\n",
       "      <td>It’s humanly impossible to help white supremac...</td>\n",
       "    </tr>\n",
       "    <tr>\n",
       "      <th>4</th>\n",
       "      <td>2021-05-30 23:23:37+00:00</td>\n",
       "      <td>Barack Obama should just stfu... \\n\\nTake his ...</td>\n",
       "    </tr>\n",
       "  </tbody>\n",
       "</table>\n",
       "</div>"
      ],
      "text/plain": [
       "                        date  \\\n",
       "0  2021-05-30 23:54:18+00:00   \n",
       "1  2021-05-30 23:42:07+00:00   \n",
       "2  2021-05-30 23:38:29+00:00   \n",
       "3  2021-05-30 23:34:40+00:00   \n",
       "4  2021-05-30 23:23:37+00:00   \n",
       "\n",
       "                                               tweet  \n",
       "0  Government of the lawyers, by the lawyers, and...  \n",
       "1  ISIS CREATOR BARACK #OBAMA IN HEADLINE NEWS......  \n",
       "2  Joe Biden in 2007 saying that voting machines ...  \n",
       "3  It’s humanly impossible to help white supremac...  \n",
       "4  Barack Obama should just stfu... \\n\\nTake his ...  "
      ]
     },
     "execution_count": 6,
     "metadata": {},
     "output_type": "execute_result"
    }
   ],
   "source": [
    "#Reading the data file\n",
    "data = pd.read_csv(\"BarackObama.csv\")\n",
    "data.head()"
   ]
  },
  {
   "cell_type": "code",
   "execution_count": 10,
   "metadata": {},
   "outputs": [
    {
     "data": {
      "text/html": [
       "<div>\n",
       "<style scoped>\n",
       "    .dataframe tbody tr th:only-of-type {\n",
       "        vertical-align: middle;\n",
       "    }\n",
       "\n",
       "    .dataframe tbody tr th {\n",
       "        vertical-align: top;\n",
       "    }\n",
       "\n",
       "    .dataframe thead th {\n",
       "        text-align: right;\n",
       "    }\n",
       "</style>\n",
       "<table border=\"1\" class=\"dataframe\">\n",
       "  <thead>\n",
       "    <tr style=\"text-align: right;\">\n",
       "      <th></th>\n",
       "      <th>date</th>\n",
       "      <th>tweet</th>\n",
       "      <th>subjectivity</th>\n",
       "      <th>polarity</th>\n",
       "      <th>data_source</th>\n",
       "      <th>name</th>\n",
       "    </tr>\n",
       "  </thead>\n",
       "  <tbody>\n",
       "    <tr>\n",
       "      <th>0</th>\n",
       "      <td>2021-05-30 23:54:18+00:00</td>\n",
       "      <td>Government of the lawyers, by the lawyers, and...</td>\n",
       "      <td>0.412500</td>\n",
       "      <td>0.100000</td>\n",
       "      <td>Twitter</td>\n",
       "      <td>Barack Obama</td>\n",
       "    </tr>\n",
       "    <tr>\n",
       "      <th>1</th>\n",
       "      <td>2021-05-30 23:42:07+00:00</td>\n",
       "      <td>ISIS CREATOR BARACK #OBAMA IN HEADLINE NEWS......</td>\n",
       "      <td>0.000000</td>\n",
       "      <td>0.000000</td>\n",
       "      <td>Twitter</td>\n",
       "      <td>Barack Obama</td>\n",
       "    </tr>\n",
       "    <tr>\n",
       "      <th>2</th>\n",
       "      <td>2021-05-30 23:38:29+00:00</td>\n",
       "      <td>Joe Biden in 2007 saying that voting machines ...</td>\n",
       "      <td>0.479167</td>\n",
       "      <td>0.216667</td>\n",
       "      <td>Twitter</td>\n",
       "      <td>Barack Obama</td>\n",
       "    </tr>\n",
       "    <tr>\n",
       "      <th>3</th>\n",
       "      <td>2021-05-30 23:34:40+00:00</td>\n",
       "      <td>It’s humanly impossible to help white supremac...</td>\n",
       "      <td>0.608333</td>\n",
       "      <td>-0.375000</td>\n",
       "      <td>Twitter</td>\n",
       "      <td>Barack Obama</td>\n",
       "    </tr>\n",
       "    <tr>\n",
       "      <th>4</th>\n",
       "      <td>2021-05-30 23:23:37+00:00</td>\n",
       "      <td>Barack Obama should just stfu... \\n\\nTake his ...</td>\n",
       "      <td>0.000000</td>\n",
       "      <td>0.000000</td>\n",
       "      <td>Twitter</td>\n",
       "      <td>Barack Obama</td>\n",
       "    </tr>\n",
       "  </tbody>\n",
       "</table>\n",
       "</div>"
      ],
      "text/plain": [
       "                        date  \\\n",
       "0  2021-05-30 23:54:18+00:00   \n",
       "1  2021-05-30 23:42:07+00:00   \n",
       "2  2021-05-30 23:38:29+00:00   \n",
       "3  2021-05-30 23:34:40+00:00   \n",
       "4  2021-05-30 23:23:37+00:00   \n",
       "\n",
       "                                               tweet  subjectivity  polarity  \\\n",
       "0  Government of the lawyers, by the lawyers, and...      0.412500  0.100000   \n",
       "1  ISIS CREATOR BARACK #OBAMA IN HEADLINE NEWS......      0.000000  0.000000   \n",
       "2  Joe Biden in 2007 saying that voting machines ...      0.479167  0.216667   \n",
       "3  It’s humanly impossible to help white supremac...      0.608333 -0.375000   \n",
       "4  Barack Obama should just stfu... \\n\\nTake his ...      0.000000  0.000000   \n",
       "\n",
       "  data_source          name  \n",
       "0     Twitter  Barack Obama  \n",
       "1     Twitter  Barack Obama  \n",
       "2     Twitter  Barack Obama  \n",
       "3     Twitter  Barack Obama  \n",
       "4     Twitter  Barack Obama  "
      ]
     },
     "execution_count": 10,
     "metadata": {},
     "output_type": "execute_result"
    }
   ],
   "source": [
    "#Create two columns for Source and Name\n",
    "data['data_source'] = \"Twitter\"\n",
    "data['name'] = \"Barack Obama\"\n",
    "data.head()"
   ]
  },
  {
   "cell_type": "code",
   "execution_count": 152,
   "metadata": {},
   "outputs": [],
   "source": [
    "#Create connection between Python and MySQL\n",
    "engine = create_engine('mysql://root:<password>@localhost/<database_name>')"
   ]
  },
  {
   "cell_type": "code",
   "execution_count": 9,
   "metadata": {},
   "outputs": [],
   "source": [
    "#Pusing the data into MySQL\n",
    "for i in range(0,len(data)):\n",
    "    df_new = data[i:i+1]\n",
    "    df_new.to_sql(\"<table_name>\", con=engine,index=False,if_exists='append')"
   ]
  },
  {
   "cell_type": "code",
   "execution_count": null,
   "metadata": {},
   "outputs": [],
   "source": []
  }
 ],
 "metadata": {
  "kernelspec": {
   "display_name": "Python 3",
   "language": "python",
   "name": "python3"
  },
  "language_info": {
   "codemirror_mode": {
    "name": "ipython",
    "version": 3
   },
   "file_extension": ".py",
   "mimetype": "text/x-python",
   "name": "python",
   "nbconvert_exporter": "python",
   "pygments_lexer": "ipython3",
   "version": "3.8.5"
  }
 },
 "nbformat": 4,
 "nbformat_minor": 4
}
