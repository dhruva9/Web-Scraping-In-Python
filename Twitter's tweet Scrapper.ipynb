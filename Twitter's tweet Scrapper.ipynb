{
 "cells": [
  {
   "cell_type": "code",
   "execution_count": 1,
   "metadata": {},
   "outputs": [],
   "source": [
    "import pandas as pd\n",
    "import numpy as np\n",
    "import snscrape.modules.twitter as sntwitter\n",
    "import csv\n",
    "import os, glob"
   ]
  },
  {
   "cell_type": "code",
   "execution_count": null,
   "metadata": {},
   "outputs": [],
   "source": [
    "# Set maximum tweets to pull\n",
    "maxTweets = 100\n",
    "\n",
    "# Set what keywords you want your twitter scraper to pull\n",
    "keyword1 = 'Barack Obama'\n",
    "\n",
    "#Open/create a file to append data to\n",
    "csvFile = open('BarackObama.csv', 'a', newline='', encoding='utf8')\n",
    "\n",
    "#Use csv writer\n",
    "# Write tweets into the csv file\n",
    "csvWriter = csv.writer(csvFile)\n",
    "csvWriter.writerow(['date','tweet'])\n",
    "\n",
    "#Tweete from to Date\n",
    "\n",
    "for i,tweet in enumerate(sntwitter.TwitterSearchScraper(keyword1 + ' lang:en since:2021-01-01 until:2021-05-31 -filter:links -filter:replies').get_items()):\n",
    "        if i > maxTweets :\n",
    "            break  \n",
    "        csvWriter.writerow([tweet.date, tweet.content])\n",
    "csvFile.close()\n"
   ]
  }
 ],
 "metadata": {
  "kernelspec": {
   "display_name": "Python 3",
   "language": "python",
   "name": "python3"
  },
  "language_info": {
   "codemirror_mode": {
    "name": "ipython",
    "version": 3
   },
   "file_extension": ".py",
   "mimetype": "text/x-python",
   "name": "python",
   "nbconvert_exporter": "python",
   "pygments_lexer": "ipython3",
   "version": "3.8.5"
  }
 },
 "nbformat": 4,
 "nbformat_minor": 4
}
